{
 "cells": [
  {
   "cell_type": "code",
   "execution_count": 1,
   "metadata": {},
   "outputs": [],
   "source": [
    "import cv2\n",
    "from matplotlib import pyplot as plt\n",
    "import numpy as np"
   ]
  },
  {
   "cell_type": "code",
   "execution_count": 101,
   "metadata": {},
   "outputs": [],
   "source": [
    "class ImageModel():\n",
    "\n",
    "    \"\"\"\n",
    "    A class that represents the ImageModel\n",
    "    \"\"\"\n",
    "\n",
    "    def __init__(self, imgPath: str):\n",
    "        \"\"\"\n",
    "        :param imgPath: absolute path of the image\n",
    "        \"\"\"\n",
    "        self.imgPath = imgPath\n",
    "        self.img = cv2.imread(self.imgPath, flags=cv2.IMREAD_GRAYSCALE).T\n",
    "        self.imgShape = self.img.shape\n",
    "        self.fourier = np.fft.fft2(self.img)\n",
    "        self.real = np.real(self.fourier)\n",
    "        self.imaginary = np.imag(self.fourier)\n",
    "        self.magnitude = np.abs(self.fourier)\n",
    "        self.mag_spectrum = np.log10(self.magnitude)\n",
    "        self.phase = np.angle(self.fourier)\n",
    "        self.uniformMagnitude = np.ones(self.img.shape)\n",
    "        self.uniformPhase = np.zeros(self.img.shape)\n",
    "        self.component_list=[self.mag_spectrum,self.phase,self.real,self.imaginary]\n",
    "\n",
    "    def mix(self, imageToBeMixed, mode):\n",
    "        \"\"\"\n",
    "        a function that takes ImageModel object mag ratio, phase ration and\n",
    "        return the magnitude of ifft of the mix\n",
    "        return type ---> 2D numpy array\n",
    "        \"\"\"\n",
    "\n",
    "        mixInverse = None\n",
    "\n",
    "        if mode == 'MagnitudeAndPhase':\n",
    "            print(\"Mixing Magnitude and Phase\")\n",
    "\n",
    "            mini_shape = min(self.img.shape , imageToBeMixed.shape)      \n",
    "            imageToBeMixed = cv2.resize(imageToBeMixed, mini_shape).T  \n",
    "            \n",
    "            print(self.img.shape)\n",
    "            print(imageToBeMixed.shape)\n",
    "\n",
    "            fourier = np.fft.fft2(imageToBeMixed)\n",
    "            M1 = self.magnitude\n",
    "            P2 = phase = np.angle(fourier)\n",
    "\n",
    "            magnitudeMix = M1 \n",
    "            phaseMix = P2\n",
    "\n",
    "            combined = np.multiply(magnitudeMix, np.exp(1j * phaseMix))\n",
    "            mixInverse = np.real(np.fft.ifft2(combined))\n",
    "    \n",
    "        \n",
    "        elif mode == 'PhaseAndMagnitude':\n",
    "            print(\"Mixing Phase and Magnitude\")\n",
    "\n",
    "            mini_shape = min(self.img.shape , imageToBeMixed.shape)\n",
    "            imageToBeMixed = cv2.resize(imageToBeMixed, mini_shape).T\n",
    "\n",
    "            fourier = np.fft.fft2(imageToBeMixed)\n",
    "            M2 = np.abs(fourier)\n",
    "\n",
    "            P1 = self.phase\n",
    "\n",
    "            magnitudeMix= M2\n",
    "            phaseMix = P1 \n",
    "\n",
    "            combined = np.multiply(magnitudeMix, np.exp(1j * phaseMix))\n",
    "            mixInverse = np.real(np.fft.ifft2(combined))\n",
    "\n",
    "        elif mode == 'MagnitudeAndMagnitude':\n",
    "            print(\"Mixing Magnitude and Magnitude\")\n",
    "\n",
    "            mini_shape = min(self.img.shape , imageToBeMixed.shape)\n",
    "            imageToBeMixed = cv2.resize(imageToBeMixed, mini_shape).T\n",
    "\n",
    "            M1 = self.magnitude\n",
    "            fourier = np.fft.fft2(imageToBeMixed)\n",
    "            M2 = np.abs(fourier)\n",
    "\n",
    "            P1 = self.phase\n",
    "\n",
    "            magnitudeMix = M1 + M2\n",
    "            phaseMix = P1 \n",
    "            \n",
    "            combined = np.multiply(magnitudeMix, np.exp(1j * phaseMix))\n",
    "            mixInverse = np.real(np.fft.ifft2(combined))\n",
    "\n",
    "                  \n",
    "        return abs(mixInverse)"
   ]
  },
  {
   "cell_type": "code",
   "execution_count": 102,
   "metadata": {},
   "outputs": [
    {
     "name": "stdout",
     "output_type": "stream",
     "text": [
      "Mixing Magnitude and Phase\n",
      "(2025, 877)\n",
      "(2025, 877)\n"
     ]
    }
   ],
   "source": [
    "obj1 = ImageModel('../assets/omda.png')\n",
    "obj2 = ImageModel('../assets/megzawy.jpg')\n",
    "\n",
    "abs_mixInverse = obj1.mix(obj2.img, 'MagnitudeAndPhase')"
   ]
  },
  {
   "cell_type": "code",
   "execution_count": 103,
   "metadata": {},
   "outputs": [
    {
     "data": {
      "text/plain": [
       "True"
      ]
     },
     "execution_count": 103,
     "metadata": {},
     "output_type": "execute_result"
    }
   ],
   "source": [
    "cv2.imwrite(f'../assets/uploads/{\"tamer_basha\"}.png', abs_mixInverse)"
   ]
  },
  {
   "cell_type": "code",
   "execution_count": null,
   "metadata": {},
   "outputs": [],
   "source": []
  }
 ],
 "metadata": {
  "kernelspec": {
   "display_name": "Python 3",
   "language": "python",
   "name": "python3"
  },
  "language_info": {
   "codemirror_mode": {
    "name": "ipython",
    "version": 3
   },
   "file_extension": ".py",
   "mimetype": "text/x-python",
   "name": "python",
   "nbconvert_exporter": "python",
   "pygments_lexer": "ipython3",
   "version": "3.10.9"
  },
  "orig_nbformat": 4,
  "vscode": {
   "interpreter": {
    "hash": "7536d7b229462f4296d4c0dae49c3bd6cd3990c783d6b9d88ce3c31a78605890"
   }
  }
 },
 "nbformat": 4,
 "nbformat_minor": 2
}
