{
 "cells": [
  {
   "cell_type": "code",
   "execution_count": null,
   "metadata": {},
   "outputs": [],
   "source": [
    "# Plotting the results\n",
    "plt.subplot(131)\n",
    "plt.imshow(image_rgb)\n",
    "plt.subplot(132)\n",
    "plt.imshow(result_rgb2)\n",
    "plt.subplot(133)\n",
    "plt.imshow(result_rgb)\n",
    "plt.show()\n",
    "import cv2 \n",
    "img = cv2.imread('../assets/1.png',0)\n",
    "img = cv2.imread('../assets/1.png',0)\n",
    "img = cv2.imread('../assets/1.png',0)\n",
    "img = cv2.imread('../assets/1.png',0)\n",
    "imageToBeMixed = cv2.imread('../assets/omda.png',0)\n",
    "\n",
    "variable = img.shape\n",
    "variable = (variable[1],variable[0])\n",
    "\n",
    "print(imageToBeMixed.shape)\n",
    "imageToBeMixed = cv2.resize(imageToBeMixed, variable)\n",
    "print(imageToBeMixed.shape)\n"
   ]
  },
  {
   "cell_type": "code",
   "execution_count": 103,
   "metadata": {},
   "outputs": [
    {
     "name": "stdout",
     "output_type": "stream",
     "text": [
      "(3, 0)\n"
     ]
    }
   ],
   "source": [
    "def scale(image_array):\n",
    "    image = ((image_array - image_array.min()) * (1/(image_array.max() - image_array.min()) * 255)).astype('uint8')\n",
    "    return image\n",
    "\n",
    "def update(arr,x1,x2,y1,y2):\n",
    "        for i in range(arr.shape[0]):\n",
    "            for j in range(arr.shape[1]):\n",
    "                if (i < x1 or i>x2 ) or (j<=y1 or j > y2 ):\n",
    "                    arr[i][j]=1\n",
    "        return arr"
   ]
  },
  {
   "cell_type": "code",
   "execution_count": 110,
   "metadata": {},
   "outputs": [],
   "source": [
    "import cv2 \n",
    "import numpy as np\n",
    "from matplotlib import pyplot as plt\n",
    "\n",
    "def plotFunc(x,s):\n",
    "    cv2.imwrite(f'{s}.png', x)\n",
    "    \n",
    "img = cv2.imread('../code/assets/image2.png',0)\n",
    "imageToBeMixed = cv2.imread('../code/assets/image2.png',0)\n",
    "\n",
    "variable = img.shape\n",
    "variable = (variable[1],variable[0])\n",
    "imageToBeMixed = cv2.resize(imageToBeMixed, variable)\n",
    "\n",
    "#IMAGE ONE FOURIER\n",
    "f = np.fft.fft2(img)\n",
    "fshift = np.fft.fftshift(f)\n",
    "magnitude_spectrum = 20*np.log(np.abs(fshift))\n",
    "\n",
    "#IMAGE TWO FOURIER\n",
    "f2 = np.fft.fft2(imageToBeMixed)\n",
    "fshift2 = np.fft.fftshift(f2)\n",
    "magnitude_spectrum = 20*np.log(np.abs(fshift2))\n",
    "ang2 = np.angle(fshift2)\n",
    "\n",
    "#COMBINED IMAGE\n",
    "M1 = np.abs(fshift)\n",
    "M1 = update(M1,0,4032,0,3024)\n",
    "P2 = ang2\n",
    "P2 = update(P2,0,1000,0,1000)\n",
    "result  = M1\n",
    "result2 = P2\n",
    "\n",
    "combined = np.multiply(result, np.exp(1j * result2))\n",
    "# f_ishift3 = np.fft.ifftshift(combined)\n",
    "# img_back = np.fft.ifft2(f_ishift3)\n",
    "# img_back = np.real(img_back)\n",
    "\n",
    "mixInverse = np.real(np.fft.ifft2(combined))\n",
    "\n",
    "plotFunc(mixInverse, \"test\")\n"
   ]
  },
  {
   "cell_type": "code",
   "execution_count": 104,
   "metadata": {},
   "outputs": [
    {
     "data": {
      "text/plain": [
       "(4032, 3024)"
      ]
     },
     "execution_count": 104,
     "metadata": {},
     "output_type": "execute_result"
    }
   ],
   "source": [
    "M1.shape"
   ]
  },
  {
   "cell_type": "code",
   "execution_count": 85,
   "metadata": {},
   "outputs": [],
   "source": [
    "magnitude_spectrum = cv2.imread('../code/static/uploads/1.png')\n",
    "# create a mask image of the same shape as input image, filled with 0s (black color)\n",
    "mask = np.zeros_like(magnitude_spectrum)\n",
    "mask2 = np.zeros_like(magnitude_spectrum)\n",
    "rows, cols,_ = mask.shape\n",
    "# create a white filled ellipse\n",
    "mask   = cv2.ellipse(mask, center=(rows//2, cols//2), axes=(2000,3000), angle=0, startAngle=0, endAngle=360, color=(255,255,255), thickness=-1)\n",
    "mask2  = cv2.rectangle(mask2, (0,0), (5000,5000), color=(255,255,255), thickness=-1)\n",
    "# Bitwise AND operation to black out regions outside the mask\n",
    "\n",
    "\n",
    "mask  = cv2.cvtColor(mask, cv2.COLOR_BGR2GRAY)\n",
    "magnitude_spectrum  = cv2.cvtColor(magnitude_spectrum, cv2.COLOR_BGR2GRAY)\n",
    "mask2 = cv2.cvtColor(mask2, cv2.COLOR_BGR2GRAY)\n",
    "\n",
    "M1 = M1.astype(int)\n",
    "# M1 = scale(M1)\n",
    "result  = np.bitwise_and(M1,mask2)\n",
    "# result2 = M1*mask\n",
    "# result2 = np.bitwise_and(image,mask2)\n",
    "\n",
    "# M1 = scale(magnitude_spectrum)\n",
    "\n",
    "# result  = M1*mask\n",
    "# result2 = P2*mask2\n",
    "\n",
    "# Convert from BGR to RGB for displaying correctly in matplotlib\n",
    "# Note that you needn't do this for displaying using OpenCV's imshow()\n",
    "\n",
    "plotFunc(result, \"test_old\")\n",
    "plotFunc(M1, \"test_new\")"
   ]
  },
  {
   "cell_type": "code",
   "execution_count": 70,
   "metadata": {},
   "outputs": [
    {
     "name": "stdout",
     "output_type": "stream",
     "text": [
      "[[255  13  23 ...   7  23  13]\n",
      " [ 53  11  14 ...  14   4   6]\n",
      " [ 19   6   4 ...   3   7   2]\n",
      " ...\n",
      " [ 12   9   5 ...   1   3   2]\n",
      " [ 19   2   7 ...   1   4   6]\n",
      " [ 53   6   4 ...   2  14  11]]\n",
      "))))))))))))\n",
      "[[129 141 140 ... 134 140 141]\n",
      " [128 144 145 ... 140 154 148]\n",
      " [132 151 125 ... 154 143 143]\n",
      " ...\n",
      " [155 149 152 ... 142 149 152]\n",
      " [132 143 143 ... 129 125 151]\n",
      " [128 148 154 ... 126 145 144]]\n"
     ]
    }
   ],
   "source": [
    "print(M1)\n",
    "print(\"))))))))))))\")\n",
    "print(image)"
   ]
  },
  {
   "cell_type": "code",
   "execution_count": null,
   "metadata": {},
   "outputs": [],
   "source": [
    "# Read an input image as a gray image\n",
    "img = cv2.imread('../code/assets/image2.png')\n",
    "\n",
    "# create a mask\n",
    "mask = np.zeros(img.shape[:2], np.uint8)\n",
    "mask[100:250, 150:450] = 255\n",
    "\n",
    "# compute the bitwise AND using the mask\n",
    "masked_img = cv2.bitwise_and(img,img,mask = mask)\n",
    "\n",
    "# display the mask, and the output image\n",
    "plotFunc(mask)\n",
    "plotFunc(masked_img)"
   ]
  },
  {
   "cell_type": "code",
   "execution_count": null,
   "metadata": {},
   "outputs": [],
   "source": []
  }
 ],
 "metadata": {
  "kernelspec": {
   "display_name": "Python 3",
   "language": "python",
   "name": "python3"
  },
  "language_info": {
   "codemirror_mode": {
    "name": "ipython",
    "version": 3
   },
   "file_extension": ".py",
   "mimetype": "text/x-python",
   "name": "python",
   "nbconvert_exporter": "python",
   "pygments_lexer": "ipython3",
   "version": "3.10.9"
  },
  "orig_nbformat": 4,
  "vscode": {
   "interpreter": {
    "hash": "7536d7b229462f4296d4c0dae49c3bd6cd3990c783d6b9d88ce3c31a78605890"
   }
  }
 },
 "nbformat": 4,
 "nbformat_minor": 2
}
